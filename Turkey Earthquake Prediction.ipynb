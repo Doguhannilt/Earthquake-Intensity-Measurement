{
 "cells": [
  {
   "cell_type": "code",
   "execution_count": 133,
   "id": "039fc6db",
   "metadata": {},
   "outputs": [],
   "source": [
    "import pandas as df\n",
    "import numpy as np\n",
    "import matplotlib.pyplot as plt\n",
    "import seaborn as sns"
   ]
  },
  {
   "cell_type": "code",
   "execution_count": 134,
   "id": "6bc6392f",
   "metadata": {},
   "outputs": [],
   "source": [
    "df = df.read_csv(\"C://Users//doguy//Desktop//t_quake///turkey_earthquakes(1915-2021).csv\",sep=';')"
   ]
  },
  {
   "cell_type": "code",
   "execution_count": 135,
   "id": "e27fff7b",
   "metadata": {},
   "outputs": [
    {
     "data": {
      "text/plain": [
       "Index(['No', 'Deprem Kodu', 'Olus tarihi', 'Olus zamani', 'Enlem', 'Boylam',\n",
       "       'Derinlik', 'xM', 'MD', 'ML', 'Mw', 'Ms', 'Mb', 'Tip', 'Yer'],\n",
       "      dtype='object')"
      ]
     },
     "execution_count": 135,
     "metadata": {},
     "output_type": "execute_result"
    }
   ],
   "source": [
    "df.columns"
   ]
  },
  {
   "cell_type": "code",
   "execution_count": 136,
   "id": "b0acdbc7",
   "metadata": {},
   "outputs": [],
   "source": [
    "df.rename(columns = {'ML':'Final'}, inplace = True)"
   ]
  },
  {
   "cell_type": "code",
   "execution_count": 137,
   "id": "c4a9bd3a",
   "metadata": {},
   "outputs": [
    {
     "data": {
      "text/html": [
       "<div>\n",
       "<style scoped>\n",
       "    .dataframe tbody tr th:only-of-type {\n",
       "        vertical-align: middle;\n",
       "    }\n",
       "\n",
       "    .dataframe tbody tr th {\n",
       "        vertical-align: top;\n",
       "    }\n",
       "\n",
       "    .dataframe thead th {\n",
       "        text-align: right;\n",
       "    }\n",
       "</style>\n",
       "<table border=\"1\" class=\"dataframe\">\n",
       "  <thead>\n",
       "    <tr style=\"text-align: right;\">\n",
       "      <th></th>\n",
       "      <th>No</th>\n",
       "      <th>Deprem Kodu</th>\n",
       "      <th>Olus tarihi</th>\n",
       "      <th>Olus zamani</th>\n",
       "      <th>Enlem</th>\n",
       "      <th>Boylam</th>\n",
       "      <th>Derinlik</th>\n",
       "      <th>xM</th>\n",
       "      <th>MD</th>\n",
       "      <th>Final</th>\n",
       "      <th>Mw</th>\n",
       "      <th>Ms</th>\n",
       "      <th>Mb</th>\n",
       "      <th>Tip</th>\n",
       "      <th>Yer</th>\n",
       "    </tr>\n",
       "  </thead>\n",
       "  <tbody>\n",
       "    <tr>\n",
       "      <th>0</th>\n",
       "      <td>1</td>\n",
       "      <td>2.021010e+13</td>\n",
       "      <td>2021.01.01</td>\n",
       "      <td>16:36:21.41</td>\n",
       "      <td>35.9273</td>\n",
       "      <td>27.8658</td>\n",
       "      <td>26.1</td>\n",
       "      <td>3.9</td>\n",
       "      <td>0.0</td>\n",
       "      <td>3.9</td>\n",
       "      <td>3.7</td>\n",
       "      <td>0.0</td>\n",
       "      <td>0.0</td>\n",
       "      <td>Ke</td>\n",
       "      <td>RODOS ADASI (AKDENIZ)</td>\n",
       "    </tr>\n",
       "    <tr>\n",
       "      <th>1</th>\n",
       "      <td>2</td>\n",
       "      <td>2.020120e+13</td>\n",
       "      <td>2020.12.31</td>\n",
       "      <td>00:51:27.94</td>\n",
       "      <td>37.8435</td>\n",
       "      <td>26.7775</td>\n",
       "      <td>8.0</td>\n",
       "      <td>3.8</td>\n",
       "      <td>0.0</td>\n",
       "      <td>3.8</td>\n",
       "      <td>3.7</td>\n",
       "      <td>0.0</td>\n",
       "      <td>0.0</td>\n",
       "      <td>Ke</td>\n",
       "      <td>EGE DENIZI</td>\n",
       "    </tr>\n",
       "    <tr>\n",
       "      <th>2</th>\n",
       "      <td>3</td>\n",
       "      <td>2.020120e+13</td>\n",
       "      <td>2020.12.30</td>\n",
       "      <td>18:45:12.79</td>\n",
       "      <td>36.4918</td>\n",
       "      <td>28.7092</td>\n",
       "      <td>5.0</td>\n",
       "      <td>3.9</td>\n",
       "      <td>0.0</td>\n",
       "      <td>3.7</td>\n",
       "      <td>3.9</td>\n",
       "      <td>0.0</td>\n",
       "      <td>0.0</td>\n",
       "      <td>Ke</td>\n",
       "      <td>AKDENIZ</td>\n",
       "    </tr>\n",
       "    <tr>\n",
       "      <th>3</th>\n",
       "      <td>4</td>\n",
       "      <td>2.020120e+13</td>\n",
       "      <td>2020.12.30</td>\n",
       "      <td>13:40:12.22</td>\n",
       "      <td>37.7960</td>\n",
       "      <td>26.4165</td>\n",
       "      <td>14.4</td>\n",
       "      <td>4.4</td>\n",
       "      <td>0.0</td>\n",
       "      <td>4.4</td>\n",
       "      <td>4.3</td>\n",
       "      <td>0.0</td>\n",
       "      <td>0.0</td>\n",
       "      <td>Ke</td>\n",
       "      <td>ONIKI ADALAR (AKDENIZ)</td>\n",
       "    </tr>\n",
       "    <tr>\n",
       "      <th>4</th>\n",
       "      <td>5</td>\n",
       "      <td>2.020120e+13</td>\n",
       "      <td>2020.12.27</td>\n",
       "      <td>20:08:36.88</td>\n",
       "      <td>38.4172</td>\n",
       "      <td>39.1482</td>\n",
       "      <td>5.0</td>\n",
       "      <td>3.9</td>\n",
       "      <td>0.0</td>\n",
       "      <td>3.7</td>\n",
       "      <td>3.9</td>\n",
       "      <td>0.0</td>\n",
       "      <td>0.0</td>\n",
       "      <td>Ke</td>\n",
       "      <td>KAVAKKOY-SIVRICE (ELAZIG) [South West  0.5 km]</td>\n",
       "    </tr>\n",
       "  </tbody>\n",
       "</table>\n",
       "</div>"
      ],
      "text/plain": [
       "   No   Deprem Kodu Olus tarihi  Olus zamani    Enlem   Boylam  Derinlik   xM  \\\n",
       "0   1  2.021010e+13  2021.01.01  16:36:21.41  35.9273  27.8658      26.1  3.9   \n",
       "1   2  2.020120e+13  2020.12.31  00:51:27.94  37.8435  26.7775       8.0  3.8   \n",
       "2   3  2.020120e+13  2020.12.30  18:45:12.79  36.4918  28.7092       5.0  3.9   \n",
       "3   4  2.020120e+13  2020.12.30  13:40:12.22  37.7960  26.4165      14.4  4.4   \n",
       "4   5  2.020120e+13  2020.12.27  20:08:36.88  38.4172  39.1482       5.0  3.9   \n",
       "\n",
       "    MD  Final   Mw   Ms   Mb Tip  \\\n",
       "0  0.0    3.9  3.7  0.0  0.0  Ke   \n",
       "1  0.0    3.8  3.7  0.0  0.0  Ke   \n",
       "2  0.0    3.7  3.9  0.0  0.0  Ke   \n",
       "3  0.0    4.4  4.3  0.0  0.0  Ke   \n",
       "4  0.0    3.7  3.9  0.0  0.0  Ke   \n",
       "\n",
       "                                              Yer  \n",
       "0                           RODOS ADASI (AKDENIZ)  \n",
       "1                                      EGE DENIZI  \n",
       "2                                         AKDENIZ  \n",
       "3                          ONIKI ADALAR (AKDENIZ)  \n",
       "4  KAVAKKOY-SIVRICE (ELAZIG) [South West  0.5 km]  "
      ]
     },
     "execution_count": 137,
     "metadata": {},
     "output_type": "execute_result"
    }
   ],
   "source": [
    "df.head(5)"
   ]
  },
  {
   "cell_type": "code",
   "execution_count": 138,
   "id": "dfd575db",
   "metadata": {},
   "outputs": [
    {
     "data": {
      "text/plain": [
       "No               int64\n",
       "Deprem Kodu    float64\n",
       "Olus tarihi     object\n",
       "Olus zamani     object\n",
       "Enlem          float64\n",
       "Boylam         float64\n",
       "Derinlik       float64\n",
       "xM             float64\n",
       "MD             float64\n",
       "Final          float64\n",
       "Mw             float64\n",
       "Ms             float64\n",
       "Mb             float64\n",
       "Tip             object\n",
       "Yer             object\n",
       "dtype: object"
      ]
     },
     "execution_count": 138,
     "metadata": {},
     "output_type": "execute_result"
    }
   ],
   "source": [
    "df.dtypes"
   ]
  },
  {
   "cell_type": "code",
   "execution_count": 139,
   "id": "7eae66cf",
   "metadata": {},
   "outputs": [
    {
     "name": "stdout",
     "output_type": "stream",
     "text": [
      "No : 17370 labels\n",
      "Deprem Kodu : 1074 labels\n",
      "Olus tarihi : 9675 labels\n",
      "Olus zamani : 17252 labels\n",
      "Enlem : 6599 labels\n",
      "Boylam : 7962 labels\n",
      "Derinlik : 659 labels\n",
      "xM : 43 labels\n",
      "MD : 44 labels\n",
      "Final : 42 labels\n",
      "Mw : 44 labels\n",
      "Ms : 44 labels\n",
      "Mb : 42 labels\n",
      "Tip : 1 labels\n",
      "Yer : 10442 labels\n"
     ]
    }
   ],
   "source": [
    "for feature in df.columns[:]:\n",
    "    print(feature,\":\",len(df[feature].unique()),'labels')"
   ]
  },
  {
   "cell_type": "code",
   "execution_count": 140,
   "id": "68c4919c",
   "metadata": {},
   "outputs": [],
   "source": [
    "df.drop(['No', 'Deprem Kodu','Tip','Yer','Olus zamani','MD'], axis=1, inplace = True)"
   ]
  },
  {
   "cell_type": "code",
   "execution_count": 141,
   "id": "2df04aa8",
   "metadata": {},
   "outputs": [
    {
     "data": {
      "text/html": [
       "<div>\n",
       "<style scoped>\n",
       "    .dataframe tbody tr th:only-of-type {\n",
       "        vertical-align: middle;\n",
       "    }\n",
       "\n",
       "    .dataframe tbody tr th {\n",
       "        vertical-align: top;\n",
       "    }\n",
       "\n",
       "    .dataframe thead th {\n",
       "        text-align: right;\n",
       "    }\n",
       "</style>\n",
       "<table border=\"1\" class=\"dataframe\">\n",
       "  <thead>\n",
       "    <tr style=\"text-align: right;\">\n",
       "      <th></th>\n",
       "      <th>Olus tarihi</th>\n",
       "      <th>Enlem</th>\n",
       "      <th>Boylam</th>\n",
       "      <th>Derinlik</th>\n",
       "      <th>xM</th>\n",
       "      <th>Final</th>\n",
       "      <th>Mw</th>\n",
       "      <th>Ms</th>\n",
       "      <th>Mb</th>\n",
       "    </tr>\n",
       "  </thead>\n",
       "  <tbody>\n",
       "    <tr>\n",
       "      <th>0</th>\n",
       "      <td>2021.01.01</td>\n",
       "      <td>35.9273</td>\n",
       "      <td>27.8658</td>\n",
       "      <td>26.1</td>\n",
       "      <td>3.9</td>\n",
       "      <td>3.9</td>\n",
       "      <td>3.7</td>\n",
       "      <td>0.0</td>\n",
       "      <td>0.0</td>\n",
       "    </tr>\n",
       "    <tr>\n",
       "      <th>1</th>\n",
       "      <td>2020.12.31</td>\n",
       "      <td>37.8435</td>\n",
       "      <td>26.7775</td>\n",
       "      <td>8.0</td>\n",
       "      <td>3.8</td>\n",
       "      <td>3.8</td>\n",
       "      <td>3.7</td>\n",
       "      <td>0.0</td>\n",
       "      <td>0.0</td>\n",
       "    </tr>\n",
       "    <tr>\n",
       "      <th>2</th>\n",
       "      <td>2020.12.30</td>\n",
       "      <td>36.4918</td>\n",
       "      <td>28.7092</td>\n",
       "      <td>5.0</td>\n",
       "      <td>3.9</td>\n",
       "      <td>3.7</td>\n",
       "      <td>3.9</td>\n",
       "      <td>0.0</td>\n",
       "      <td>0.0</td>\n",
       "    </tr>\n",
       "    <tr>\n",
       "      <th>3</th>\n",
       "      <td>2020.12.30</td>\n",
       "      <td>37.7960</td>\n",
       "      <td>26.4165</td>\n",
       "      <td>14.4</td>\n",
       "      <td>4.4</td>\n",
       "      <td>4.4</td>\n",
       "      <td>4.3</td>\n",
       "      <td>0.0</td>\n",
       "      <td>0.0</td>\n",
       "    </tr>\n",
       "    <tr>\n",
       "      <th>4</th>\n",
       "      <td>2020.12.27</td>\n",
       "      <td>38.4172</td>\n",
       "      <td>39.1482</td>\n",
       "      <td>5.0</td>\n",
       "      <td>3.9</td>\n",
       "      <td>3.7</td>\n",
       "      <td>3.9</td>\n",
       "      <td>0.0</td>\n",
       "      <td>0.0</td>\n",
       "    </tr>\n",
       "    <tr>\n",
       "      <th>5</th>\n",
       "      <td>2020.12.27</td>\n",
       "      <td>36.4750</td>\n",
       "      <td>28.7852</td>\n",
       "      <td>2.8</td>\n",
       "      <td>4.2</td>\n",
       "      <td>4.2</td>\n",
       "      <td>4.0</td>\n",
       "      <td>0.0</td>\n",
       "      <td>0.0</td>\n",
       "    </tr>\n",
       "    <tr>\n",
       "      <th>6</th>\n",
       "      <td>2020.12.27</td>\n",
       "      <td>38.5050</td>\n",
       "      <td>39.2180</td>\n",
       "      <td>2.9</td>\n",
       "      <td>5.6</td>\n",
       "      <td>5.6</td>\n",
       "      <td>5.6</td>\n",
       "      <td>0.0</td>\n",
       "      <td>0.0</td>\n",
       "    </tr>\n",
       "    <tr>\n",
       "      <th>7</th>\n",
       "      <td>2020.12.26</td>\n",
       "      <td>38.5305</td>\n",
       "      <td>39.2102</td>\n",
       "      <td>5.0</td>\n",
       "      <td>4.1</td>\n",
       "      <td>4.0</td>\n",
       "      <td>4.1</td>\n",
       "      <td>0.0</td>\n",
       "      <td>0.0</td>\n",
       "    </tr>\n",
       "    <tr>\n",
       "      <th>8</th>\n",
       "      <td>2020.12.26</td>\n",
       "      <td>38.0033</td>\n",
       "      <td>42.9642</td>\n",
       "      <td>5.0</td>\n",
       "      <td>3.9</td>\n",
       "      <td>3.8</td>\n",
       "      <td>3.9</td>\n",
       "      <td>0.0</td>\n",
       "      <td>0.0</td>\n",
       "    </tr>\n",
       "    <tr>\n",
       "      <th>9</th>\n",
       "      <td>2020.12.23</td>\n",
       "      <td>36.5213</td>\n",
       "      <td>28.6950</td>\n",
       "      <td>13.1</td>\n",
       "      <td>3.7</td>\n",
       "      <td>3.7</td>\n",
       "      <td>3.7</td>\n",
       "      <td>0.0</td>\n",
       "      <td>0.0</td>\n",
       "    </tr>\n",
       "  </tbody>\n",
       "</table>\n",
       "</div>"
      ],
      "text/plain": [
       "  Olus tarihi    Enlem   Boylam  Derinlik   xM  Final   Mw   Ms   Mb\n",
       "0  2021.01.01  35.9273  27.8658      26.1  3.9    3.9  3.7  0.0  0.0\n",
       "1  2020.12.31  37.8435  26.7775       8.0  3.8    3.8  3.7  0.0  0.0\n",
       "2  2020.12.30  36.4918  28.7092       5.0  3.9    3.7  3.9  0.0  0.0\n",
       "3  2020.12.30  37.7960  26.4165      14.4  4.4    4.4  4.3  0.0  0.0\n",
       "4  2020.12.27  38.4172  39.1482       5.0  3.9    3.7  3.9  0.0  0.0\n",
       "5  2020.12.27  36.4750  28.7852       2.8  4.2    4.2  4.0  0.0  0.0\n",
       "6  2020.12.27  38.5050  39.2180       2.9  5.6    5.6  5.6  0.0  0.0\n",
       "7  2020.12.26  38.5305  39.2102       5.0  4.1    4.0  4.1  0.0  0.0\n",
       "8  2020.12.26  38.0033  42.9642       5.0  3.9    3.8  3.9  0.0  0.0\n",
       "9  2020.12.23  36.5213  28.6950      13.1  3.7    3.7  3.7  0.0  0.0"
      ]
     },
     "execution_count": 141,
     "metadata": {},
     "output_type": "execute_result"
    }
   ],
   "source": [
    "df.head(10)"
   ]
  },
  {
   "cell_type": "code",
   "execution_count": 142,
   "id": "a4a6a294",
   "metadata": {},
   "outputs": [],
   "source": [
    "df['Yil'] = df['Olus tarihi'].str.split('.').str[0]\n",
    "df['Ay'] = df['Olus tarihi'].str.split('.').str[1]\n",
    "df['Gun'] = df['Olus tarihi'].str.split('.').str[2]"
   ]
  },
  {
   "cell_type": "code",
   "execution_count": 143,
   "id": "1918b321",
   "metadata": {},
   "outputs": [
    {
     "data": {
      "text/html": [
       "<div>\n",
       "<style scoped>\n",
       "    .dataframe tbody tr th:only-of-type {\n",
       "        vertical-align: middle;\n",
       "    }\n",
       "\n",
       "    .dataframe tbody tr th {\n",
       "        vertical-align: top;\n",
       "    }\n",
       "\n",
       "    .dataframe thead th {\n",
       "        text-align: right;\n",
       "    }\n",
       "</style>\n",
       "<table border=\"1\" class=\"dataframe\">\n",
       "  <thead>\n",
       "    <tr style=\"text-align: right;\">\n",
       "      <th></th>\n",
       "      <th>Olus tarihi</th>\n",
       "      <th>Enlem</th>\n",
       "      <th>Boylam</th>\n",
       "      <th>Derinlik</th>\n",
       "      <th>xM</th>\n",
       "      <th>Final</th>\n",
       "      <th>Mw</th>\n",
       "      <th>Ms</th>\n",
       "      <th>Mb</th>\n",
       "      <th>Yil</th>\n",
       "      <th>Ay</th>\n",
       "      <th>Gun</th>\n",
       "    </tr>\n",
       "  </thead>\n",
       "  <tbody>\n",
       "    <tr>\n",
       "      <th>0</th>\n",
       "      <td>2021.01.01</td>\n",
       "      <td>35.9273</td>\n",
       "      <td>27.8658</td>\n",
       "      <td>26.1</td>\n",
       "      <td>3.9</td>\n",
       "      <td>3.9</td>\n",
       "      <td>3.7</td>\n",
       "      <td>0.0</td>\n",
       "      <td>0.0</td>\n",
       "      <td>2021</td>\n",
       "      <td>01</td>\n",
       "      <td>01</td>\n",
       "    </tr>\n",
       "    <tr>\n",
       "      <th>1</th>\n",
       "      <td>2020.12.31</td>\n",
       "      <td>37.8435</td>\n",
       "      <td>26.7775</td>\n",
       "      <td>8.0</td>\n",
       "      <td>3.8</td>\n",
       "      <td>3.8</td>\n",
       "      <td>3.7</td>\n",
       "      <td>0.0</td>\n",
       "      <td>0.0</td>\n",
       "      <td>2020</td>\n",
       "      <td>12</td>\n",
       "      <td>31</td>\n",
       "    </tr>\n",
       "    <tr>\n",
       "      <th>2</th>\n",
       "      <td>2020.12.30</td>\n",
       "      <td>36.4918</td>\n",
       "      <td>28.7092</td>\n",
       "      <td>5.0</td>\n",
       "      <td>3.9</td>\n",
       "      <td>3.7</td>\n",
       "      <td>3.9</td>\n",
       "      <td>0.0</td>\n",
       "      <td>0.0</td>\n",
       "      <td>2020</td>\n",
       "      <td>12</td>\n",
       "      <td>30</td>\n",
       "    </tr>\n",
       "    <tr>\n",
       "      <th>3</th>\n",
       "      <td>2020.12.30</td>\n",
       "      <td>37.7960</td>\n",
       "      <td>26.4165</td>\n",
       "      <td>14.4</td>\n",
       "      <td>4.4</td>\n",
       "      <td>4.4</td>\n",
       "      <td>4.3</td>\n",
       "      <td>0.0</td>\n",
       "      <td>0.0</td>\n",
       "      <td>2020</td>\n",
       "      <td>12</td>\n",
       "      <td>30</td>\n",
       "    </tr>\n",
       "    <tr>\n",
       "      <th>4</th>\n",
       "      <td>2020.12.27</td>\n",
       "      <td>38.4172</td>\n",
       "      <td>39.1482</td>\n",
       "      <td>5.0</td>\n",
       "      <td>3.9</td>\n",
       "      <td>3.7</td>\n",
       "      <td>3.9</td>\n",
       "      <td>0.0</td>\n",
       "      <td>0.0</td>\n",
       "      <td>2020</td>\n",
       "      <td>12</td>\n",
       "      <td>27</td>\n",
       "    </tr>\n",
       "  </tbody>\n",
       "</table>\n",
       "</div>"
      ],
      "text/plain": [
       "  Olus tarihi    Enlem   Boylam  Derinlik   xM  Final   Mw   Ms   Mb   Yil  \\\n",
       "0  2021.01.01  35.9273  27.8658      26.1  3.9    3.9  3.7  0.0  0.0  2021   \n",
       "1  2020.12.31  37.8435  26.7775       8.0  3.8    3.8  3.7  0.0  0.0  2020   \n",
       "2  2020.12.30  36.4918  28.7092       5.0  3.9    3.7  3.9  0.0  0.0  2020   \n",
       "3  2020.12.30  37.7960  26.4165      14.4  4.4    4.4  4.3  0.0  0.0  2020   \n",
       "4  2020.12.27  38.4172  39.1482       5.0  3.9    3.7  3.9  0.0  0.0  2020   \n",
       "\n",
       "   Ay Gun  \n",
       "0  01  01  \n",
       "1  12  31  \n",
       "2  12  30  \n",
       "3  12  30  \n",
       "4  12  27  "
      ]
     },
     "execution_count": 143,
     "metadata": {},
     "output_type": "execute_result"
    }
   ],
   "source": [
    "df.head()"
   ]
  },
  {
   "cell_type": "code",
   "execution_count": 144,
   "id": "c0b28f3b",
   "metadata": {},
   "outputs": [
    {
     "data": {
      "text/plain": [
       "Olus tarihi        0\n",
       "Enlem              0\n",
       "Boylam             0\n",
       "Derinlik           0\n",
       "xM                 0\n",
       "Final              0\n",
       "Mw             12725\n",
       "Ms                 0\n",
       "Mb                 0\n",
       "Yil                0\n",
       "Ay                 0\n",
       "Gun                0\n",
       "dtype: int64"
      ]
     },
     "execution_count": 144,
     "metadata": {},
     "output_type": "execute_result"
    }
   ],
   "source": [
    "df.isnull().sum()"
   ]
  },
  {
   "cell_type": "code",
   "execution_count": 145,
   "id": "af49fedc",
   "metadata": {},
   "outputs": [
    {
     "data": {
      "text/html": [
       "<div>\n",
       "<style scoped>\n",
       "    .dataframe tbody tr th:only-of-type {\n",
       "        vertical-align: middle;\n",
       "    }\n",
       "\n",
       "    .dataframe tbody tr th {\n",
       "        vertical-align: top;\n",
       "    }\n",
       "\n",
       "    .dataframe thead th {\n",
       "        text-align: right;\n",
       "    }\n",
       "</style>\n",
       "<table border=\"1\" class=\"dataframe\">\n",
       "  <thead>\n",
       "    <tr style=\"text-align: right;\">\n",
       "      <th></th>\n",
       "      <th>Olus tarihi</th>\n",
       "      <th>Enlem</th>\n",
       "      <th>Boylam</th>\n",
       "      <th>Derinlik</th>\n",
       "      <th>xM</th>\n",
       "      <th>Final</th>\n",
       "      <th>Mw</th>\n",
       "      <th>Ms</th>\n",
       "      <th>Mb</th>\n",
       "      <th>Yil</th>\n",
       "      <th>Ay</th>\n",
       "      <th>Gun</th>\n",
       "    </tr>\n",
       "  </thead>\n",
       "  <tbody>\n",
       "    <tr>\n",
       "      <th>0</th>\n",
       "      <td>2021.01.01</td>\n",
       "      <td>35.9273</td>\n",
       "      <td>27.8658</td>\n",
       "      <td>26.1</td>\n",
       "      <td>3.9</td>\n",
       "      <td>3.9</td>\n",
       "      <td>3.7</td>\n",
       "      <td>0.0</td>\n",
       "      <td>0.0</td>\n",
       "      <td>2021</td>\n",
       "      <td>01</td>\n",
       "      <td>01</td>\n",
       "    </tr>\n",
       "    <tr>\n",
       "      <th>1</th>\n",
       "      <td>2020.12.31</td>\n",
       "      <td>37.8435</td>\n",
       "      <td>26.7775</td>\n",
       "      <td>8.0</td>\n",
       "      <td>3.8</td>\n",
       "      <td>3.8</td>\n",
       "      <td>3.7</td>\n",
       "      <td>0.0</td>\n",
       "      <td>0.0</td>\n",
       "      <td>2020</td>\n",
       "      <td>12</td>\n",
       "      <td>31</td>\n",
       "    </tr>\n",
       "    <tr>\n",
       "      <th>2</th>\n",
       "      <td>2020.12.30</td>\n",
       "      <td>36.4918</td>\n",
       "      <td>28.7092</td>\n",
       "      <td>5.0</td>\n",
       "      <td>3.9</td>\n",
       "      <td>3.7</td>\n",
       "      <td>3.9</td>\n",
       "      <td>0.0</td>\n",
       "      <td>0.0</td>\n",
       "      <td>2020</td>\n",
       "      <td>12</td>\n",
       "      <td>30</td>\n",
       "    </tr>\n",
       "    <tr>\n",
       "      <th>3</th>\n",
       "      <td>2020.12.30</td>\n",
       "      <td>37.7960</td>\n",
       "      <td>26.4165</td>\n",
       "      <td>14.4</td>\n",
       "      <td>4.4</td>\n",
       "      <td>4.4</td>\n",
       "      <td>4.3</td>\n",
       "      <td>0.0</td>\n",
       "      <td>0.0</td>\n",
       "      <td>2020</td>\n",
       "      <td>12</td>\n",
       "      <td>30</td>\n",
       "    </tr>\n",
       "    <tr>\n",
       "      <th>4</th>\n",
       "      <td>2020.12.27</td>\n",
       "      <td>38.4172</td>\n",
       "      <td>39.1482</td>\n",
       "      <td>5.0</td>\n",
       "      <td>3.9</td>\n",
       "      <td>3.7</td>\n",
       "      <td>3.9</td>\n",
       "      <td>0.0</td>\n",
       "      <td>0.0</td>\n",
       "      <td>2020</td>\n",
       "      <td>12</td>\n",
       "      <td>27</td>\n",
       "    </tr>\n",
       "  </tbody>\n",
       "</table>\n",
       "</div>"
      ],
      "text/plain": [
       "  Olus tarihi    Enlem   Boylam  Derinlik   xM  Final   Mw   Ms   Mb   Yil  \\\n",
       "0  2021.01.01  35.9273  27.8658      26.1  3.9    3.9  3.7  0.0  0.0  2021   \n",
       "1  2020.12.31  37.8435  26.7775       8.0  3.8    3.8  3.7  0.0  0.0  2020   \n",
       "2  2020.12.30  36.4918  28.7092       5.0  3.9    3.7  3.9  0.0  0.0  2020   \n",
       "3  2020.12.30  37.7960  26.4165      14.4  4.4    4.4  4.3  0.0  0.0  2020   \n",
       "4  2020.12.27  38.4172  39.1482       5.0  3.9    3.7  3.9  0.0  0.0  2020   \n",
       "\n",
       "   Ay Gun  \n",
       "0  01  01  \n",
       "1  12  31  \n",
       "2  12  30  \n",
       "3  12  30  \n",
       "4  12  27  "
      ]
     },
     "execution_count": 145,
     "metadata": {},
     "output_type": "execute_result"
    }
   ],
   "source": [
    "# ML [Final column] is the most Trustworthy tham Mw and Ms also Mw has lots of NaN value, that's why I Will use ML as a Independent value\n",
    "#df.drop(['Mw'],axis=1,inplace=True)\n",
    "#df.drop(['Olus tarihi','Ms'],axis =1 , inplace=True)\n",
    "#df.drop(['Mw'],axis=1,inplace=True)\n",
    "df.head()"
   ]
  },
  {
   "cell_type": "code",
   "execution_count": 150,
   "id": "81d8b34f",
   "metadata": {},
   "outputs": [
    {
     "data": {
      "text/plain": [
       "<AxesSubplot:>"
      ]
     },
     "execution_count": 150,
     "metadata": {},
     "output_type": "execute_result"
    },
    {
     "data": {
      "image/png": "[encoded data removed]",
      "text/plain": [
       "<Figure size 432x288 with 1 Axes>"
      ]
     },
     "metadata": {
      "needs_background": "light"
     },
     "output_type": "display_data"
    }
   ],
   "source": [
    "df['Boylam'].plot(kind='box')\n",
    "#Normal Distribution NO OUTLIER"
   ]
  },
  {
   "cell_type": "code",
   "execution_count": 147,
   "id": "25c5d0e6",
   "metadata": {},
   "outputs": [
    {
     "data": {
      "text/plain": [
       "<AxesSubplot:>"
      ]
     },
     "execution_count": 147,
     "metadata": {},
     "output_type": "execute_result"
    },
    {
     "data": {
      "image/png": "[encoded data removed]",
      "text/plain": [
       "<Figure size 432x288 with 1 Axes>"
      ]
     },
     "metadata": {
      "needs_background": "light"
     },
     "output_type": "display_data"
    }
   ],
   "source": [
    "df['Enlem'].plot(kind = 'box')\n",
    "#Normal Distribution NO OUTLIER"
   ]
  },
  {
   "cell_type": "code",
   "execution_count": 152,
   "id": "60813218",
   "metadata": {},
   "outputs": [],
   "source": [
    "from sklearn.preprocessing import MinMaxScaler\n",
    "min_max_scaler = MinMaxScaler()\n",
    "df[[\"Enlem\",\"Boylam\"]] = min_max_scaler. fit_transform(df[[\"Enlem\",\"Boylam\"]])"
   ]
  },
  {
   "cell_type": "code",
   "execution_count": 155,
   "id": "0e31a228",
   "metadata": {},
   "outputs": [
    {
     "data": {
      "text/html": [
       "<div>\n",
       "<style scoped>\n",
       "    .dataframe tbody tr th:only-of-type {\n",
       "        vertical-align: middle;\n",
       "    }\n",
       "\n",
       "    .dataframe tbody tr th {\n",
       "        vertical-align: top;\n",
       "    }\n",
       "\n",
       "    .dataframe thead th {\n",
       "        text-align: right;\n",
       "    }\n",
       "</style>\n",
       "<table border=\"1\" class=\"dataframe\">\n",
       "  <thead>\n",
       "    <tr style=\"text-align: right;\">\n",
       "      <th></th>\n",
       "      <th>Enlem</th>\n",
       "      <th>Boylam</th>\n",
       "      <th>Derinlik</th>\n",
       "      <th>xM</th>\n",
       "      <th>Final</th>\n",
       "      <th>Mw</th>\n",
       "      <th>Ms</th>\n",
       "      <th>Mb</th>\n",
       "      <th>Yil</th>\n",
       "      <th>Ay</th>\n",
       "      <th>Gun</th>\n",
       "    </tr>\n",
       "  </thead>\n",
       "  <tbody>\n",
       "    <tr>\n",
       "      <th>0</th>\n",
       "      <td>0.132506</td>\n",
       "      <td>0.098204</td>\n",
       "      <td>26.1</td>\n",
       "      <td>3.9</td>\n",
       "      <td>3.9</td>\n",
       "      <td>3.7</td>\n",
       "      <td>0.0</td>\n",
       "      <td>0.0</td>\n",
       "      <td>2021</td>\n",
       "      <td>01</td>\n",
       "      <td>01</td>\n",
       "    </tr>\n",
       "    <tr>\n",
       "      <th>1</th>\n",
       "      <td>0.406319</td>\n",
       "      <td>0.040923</td>\n",
       "      <td>8.0</td>\n",
       "      <td>3.8</td>\n",
       "      <td>3.8</td>\n",
       "      <td>3.7</td>\n",
       "      <td>0.0</td>\n",
       "      <td>0.0</td>\n",
       "      <td>2020</td>\n",
       "      <td>12</td>\n",
       "      <td>31</td>\n",
       "    </tr>\n",
       "    <tr>\n",
       "      <th>2</th>\n",
       "      <td>0.213169</td>\n",
       "      <td>0.142595</td>\n",
       "      <td>5.0</td>\n",
       "      <td>3.9</td>\n",
       "      <td>3.7</td>\n",
       "      <td>3.9</td>\n",
       "      <td>0.0</td>\n",
       "      <td>0.0</td>\n",
       "      <td>2020</td>\n",
       "      <td>12</td>\n",
       "      <td>30</td>\n",
       "    </tr>\n",
       "    <tr>\n",
       "      <th>3</th>\n",
       "      <td>0.399531</td>\n",
       "      <td>0.021922</td>\n",
       "      <td>14.4</td>\n",
       "      <td>4.4</td>\n",
       "      <td>4.4</td>\n",
       "      <td>4.3</td>\n",
       "      <td>0.0</td>\n",
       "      <td>0.0</td>\n",
       "      <td>2020</td>\n",
       "      <td>12</td>\n",
       "      <td>30</td>\n",
       "    </tr>\n",
       "    <tr>\n",
       "      <th>4</th>\n",
       "      <td>0.488297</td>\n",
       "      <td>0.692040</td>\n",
       "      <td>5.0</td>\n",
       "      <td>3.9</td>\n",
       "      <td>3.7</td>\n",
       "      <td>3.9</td>\n",
       "      <td>0.0</td>\n",
       "      <td>0.0</td>\n",
       "      <td>2020</td>\n",
       "      <td>12</td>\n",
       "      <td>27</td>\n",
       "    </tr>\n",
       "  </tbody>\n",
       "</table>\n",
       "</div>"
      ],
      "text/plain": [
       "      Enlem    Boylam  Derinlik   xM  Final   Mw   Ms   Mb   Yil  Ay Gun\n",
       "0  0.132506  0.098204      26.1  3.9    3.9  3.7  0.0  0.0  2021  01  01\n",
       "1  0.406319  0.040923       8.0  3.8    3.8  3.7  0.0  0.0  2020  12  31\n",
       "2  0.213169  0.142595       5.0  3.9    3.7  3.9  0.0  0.0  2020  12  30\n",
       "3  0.399531  0.021922      14.4  4.4    4.4  4.3  0.0  0.0  2020  12  30\n",
       "4  0.488297  0.692040       5.0  3.9    3.7  3.9  0.0  0.0  2020  12  27"
      ]
     },
     "execution_count": 155,
     "metadata": {},
     "output_type": "execute_result"
    }
   ],
   "source": [
    "df.drop(['Olus tarihi'],axis=1,inplace=True)\n",
    "df.head()"
   ]
  },
  {
   "cell_type": "code",
   "execution_count": 171,
   "id": "6477cd75",
   "metadata": {},
   "outputs": [
    {
     "data": {
      "text/plain": [
       "Enlem       float64\n",
       "Boylam      float64\n",
       "Derinlik    float64\n",
       "xM          float64\n",
       "Final       float64\n",
       "Mw          float64\n",
       "Ms          float64\n",
       "Mb          float64\n",
       "Yil           int64\n",
       "Ay            int64\n",
       "Gun           int64\n",
       "dtype: object"
      ]
     },
     "execution_count": 171,
     "metadata": {},
     "output_type": "execute_result"
    }
   ],
   "source": [
    "df['Yil'] = df['Yil'].apply(int)\n",
    "df['Ay'] = df['Ay'].apply(int)\n",
    "df['Gun'] = df['Gun'].apply(int)\n",
    "df.dtypes"
   ]
  },
  {
   "cell_type": "code",
   "execution_count": 186,
   "id": "73770dad",
   "metadata": {},
   "outputs": [
    {
     "data": {
      "text/html": [
       "<div>\n",
       "<style scoped>\n",
       "    .dataframe tbody tr th:only-of-type {\n",
       "        vertical-align: middle;\n",
       "    }\n",
       "\n",
       "    .dataframe tbody tr th {\n",
       "        vertical-align: top;\n",
       "    }\n",
       "\n",
       "    .dataframe thead th {\n",
       "        text-align: right;\n",
       "    }\n",
       "</style>\n",
       "<table border=\"1\" class=\"dataframe\">\n",
       "  <thead>\n",
       "    <tr style=\"text-align: right;\">\n",
       "      <th></th>\n",
       "      <th>Enlem</th>\n",
       "      <th>Boylam</th>\n",
       "      <th>Derinlik</th>\n",
       "      <th>xM</th>\n",
       "      <th>Final</th>\n",
       "      <th>Mw</th>\n",
       "      <th>Ms</th>\n",
       "      <th>Mb</th>\n",
       "      <th>Yil</th>\n",
       "      <th>Ay</th>\n",
       "      <th>Gun</th>\n",
       "    </tr>\n",
       "  </thead>\n",
       "  <tbody>\n",
       "    <tr>\n",
       "      <th>0</th>\n",
       "      <td>0.133</td>\n",
       "      <td>0.098</td>\n",
       "      <td>26.1</td>\n",
       "      <td>3.9</td>\n",
       "      <td>3.9</td>\n",
       "      <td>3.7</td>\n",
       "      <td>0.0</td>\n",
       "      <td>0.0</td>\n",
       "      <td>2021</td>\n",
       "      <td>1</td>\n",
       "      <td>1</td>\n",
       "    </tr>\n",
       "    <tr>\n",
       "      <th>1</th>\n",
       "      <td>0.406</td>\n",
       "      <td>0.041</td>\n",
       "      <td>8.0</td>\n",
       "      <td>3.8</td>\n",
       "      <td>3.8</td>\n",
       "      <td>3.7</td>\n",
       "      <td>0.0</td>\n",
       "      <td>0.0</td>\n",
       "      <td>2020</td>\n",
       "      <td>12</td>\n",
       "      <td>31</td>\n",
       "    </tr>\n",
       "    <tr>\n",
       "      <th>2</th>\n",
       "      <td>0.213</td>\n",
       "      <td>0.143</td>\n",
       "      <td>5.0</td>\n",
       "      <td>3.9</td>\n",
       "      <td>3.7</td>\n",
       "      <td>3.9</td>\n",
       "      <td>0.0</td>\n",
       "      <td>0.0</td>\n",
       "      <td>2020</td>\n",
       "      <td>12</td>\n",
       "      <td>30</td>\n",
       "    </tr>\n",
       "    <tr>\n",
       "      <th>3</th>\n",
       "      <td>0.400</td>\n",
       "      <td>0.022</td>\n",
       "      <td>14.4</td>\n",
       "      <td>4.4</td>\n",
       "      <td>4.4</td>\n",
       "      <td>4.3</td>\n",
       "      <td>0.0</td>\n",
       "      <td>0.0</td>\n",
       "      <td>2020</td>\n",
       "      <td>12</td>\n",
       "      <td>30</td>\n",
       "    </tr>\n",
       "    <tr>\n",
       "      <th>4</th>\n",
       "      <td>0.488</td>\n",
       "      <td>0.692</td>\n",
       "      <td>5.0</td>\n",
       "      <td>3.9</td>\n",
       "      <td>3.7</td>\n",
       "      <td>3.9</td>\n",
       "      <td>0.0</td>\n",
       "      <td>0.0</td>\n",
       "      <td>2020</td>\n",
       "      <td>12</td>\n",
       "      <td>27</td>\n",
       "    </tr>\n",
       "  </tbody>\n",
       "</table>\n",
       "</div>"
      ],
      "text/plain": [
       "   Enlem  Boylam  Derinlik   xM  Final   Mw   Ms   Mb   Yil  Ay  Gun\n",
       "0  0.133   0.098      26.1  3.9    3.9  3.7  0.0  0.0  2021   1    1\n",
       "1  0.406   0.041       8.0  3.8    3.8  3.7  0.0  0.0  2020  12   31\n",
       "2  0.213   0.143       5.0  3.9    3.7  3.9  0.0  0.0  2020  12   30\n",
       "3  0.400   0.022      14.4  4.4    4.4  4.3  0.0  0.0  2020  12   30\n",
       "4  0.488   0.692       5.0  3.9    3.7  3.9  0.0  0.0  2020  12   27"
      ]
     },
     "execution_count": 186,
     "metadata": {},
     "output_type": "execute_result"
    }
   ],
   "source": [
    "decimals = 3   \n",
    "df['Enlem'] = df['Enlem'].apply(lambda x: round(x, decimals))\n",
    "df['Boylam'] = df['Boylam'].apply(lambda x: round(x, decimals))\n",
    "df.head()"
   ]
  },
  {
   "cell_type": "markdown",
   "id": "51c1a820",
   "metadata": {},
   "source": [
    "# MACHINE LEARNING"
   ]
  },
  {
   "cell_type": "code",
   "execution_count": 193,
   "id": "aaea7b24",
   "metadata": {},
   "outputs": [],
   "source": [
    "X = df.drop(['Final'],axis=1)\n",
    "y = df.Final\n",
    "\n",
    "from sklearn.model_selection import train_test_split\n",
    "X_train, X_test, y_train, y_test = train_test_split(X, y, test_size=0.30)"
   ]
  },
  {
   "cell_type": "markdown",
   "id": "59393aa7",
   "metadata": {},
   "source": [
    "### LINEAR REGRESSION"
   ]
  },
  {
   "cell_type": "code",
   "execution_count": 197,
   "id": "dd31434a",
   "metadata": {},
   "outputs": [],
   "source": [
    "\n",
    "from sklearn.linear_model import LinearRegression\n",
    "regressor = LinearRegression()"
   ]
  },
  {
   "cell_type": "code",
   "execution_count": 198,
   "id": "97c819ca",
   "metadata": {},
   "outputs": [
    {
     "data": {
      "text/plain": [
       "LinearRegression()"
      ]
     },
     "execution_count": 198,
     "metadata": {},
     "output_type": "execute_result"
    }
   ],
   "source": [
    "regressor.fit(X_train, y_train)"
   ]
  },
  {
   "cell_type": "code",
   "execution_count": 199,
   "id": "69e7f7a4",
   "metadata": {},
   "outputs": [
    {
     "name": "stdout",
     "output_type": "stream",
     "text": [
      "-130.88196669566622\n"
     ]
    }
   ],
   "source": [
    "print(regressor.intercept_)"
   ]
  },
  {
   "cell_type": "code",
   "execution_count": 201,
   "id": "d109de71",
   "metadata": {},
   "outputs": [
    {
     "data": {
      "text/plain": [
       "0.398164396821717"
      ]
     },
     "execution_count": 201,
     "metadata": {},
     "output_type": "execute_result"
    }
   ],
   "source": [
    "regressor.score(X_train, y_train)"
   ]
  },
  {
   "cell_type": "markdown",
   "id": "8830370a",
   "metadata": {},
   "source": [
    "### DECISION TREE "
   ]
  },
  {
   "cell_type": "code",
   "execution_count": 211,
   "id": "8b3fa6cb",
   "metadata": {},
   "outputs": [],
   "source": [
    "from sklearn.tree import DecisionTreeRegressor\n",
    "decision = DecisionTreeRegressor(random_state=0)"
   ]
  },
  {
   "cell_type": "code",
   "execution_count": 212,
   "id": "b9f0707a",
   "metadata": {},
   "outputs": [
    {
     "data": {
      "text/plain": [
       "DecisionTreeRegressor(random_state=0)"
      ]
     },
     "execution_count": 212,
     "metadata": {},
     "output_type": "execute_result"
    }
   ],
   "source": [
    "decision.fit(X,y)"
   ]
  },
  {
   "cell_type": "code",
   "execution_count": 215,
   "id": "3ed297bb",
   "metadata": {},
   "outputs": [
    {
     "data": {
      "text/plain": [
       "1.0"
      ]
     },
     "execution_count": 215,
     "metadata": {},
     "output_type": "execute_result"
    }
   ],
   "source": [
    "decision.score(X_train,y_train)"
   ]
  }
 ],
 "metadata": {
  "kernelspec": {
   "display_name": "Python 3 (ipykernel)",
   "language": "python",
   "name": "python3"
  },
  "language_info": {
   "codemirror_mode": {
    "name": "ipython",
    "version": 3
   },
   "file_extension": ".py",
   "mimetype": "text/x-python",
   "name": "python",
   "nbconvert_exporter": "python",
   "pygments_lexer": "ipython3",
   "version": "3.9.12"
  }
 },
 "nbformat": 4,
 "nbformat_minor": 5
}
